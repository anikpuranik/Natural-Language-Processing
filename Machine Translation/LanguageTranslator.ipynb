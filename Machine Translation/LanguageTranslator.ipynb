{
 "cells": [
  {
   "cell_type": "markdown",
   "metadata": {},
   "source": [
    "### This is the language translator using pre-trained machine learning models. Libraries like TextBlob and googletrans implement Neural Machine Translation. Here, the TextBlob is used."
   ]
  },
  {
   "cell_type": "markdown",
   "metadata": {},
   "source": [
    "### The Streamlit is used for the creating interface of the application. "
   ]
  },
  {
   "cell_type": "code",
   "execution_count": 1,
   "metadata": {},
   "outputs": [],
   "source": [
    "from textblob import TextBlob\n",
    "import streamlit as st"
   ]
  },
  {
   "cell_type": "code",
   "execution_count": 2,
   "metadata": {},
   "outputs": [],
   "source": [
    "languages = {'Hindi':'hi', 'English':'en', 'Telgu':'te', '':'', '':''}"
   ]
  },
  {
   "cell_type": "code",
   "execution_count": 3,
   "metadata": {},
   "outputs": [],
   "source": [
    "def translation():\n",
    "    st.title(\"Language Translation\")\n",
    "    message = st.text_area(\"Enter the text to be translated\")\n",
    "    st.text(languages)\n",
    "    target_language = st.text_input(\"Enter the target language\")\n",
    "    \n",
    "    if st.button(\"translate\"):\n",
    "        message = TextBlob(message)\n",
    "        try:\n",
    "            st.text(\"Tranlated text is\")\n",
    "            translated_message = message.translate(to=target_language)\n",
    "        except:\n",
    "            translated_message = \"Language selected was either not in list or same language is selected\"\n",
    "        st.success(translated_message)"
   ]
  },
  {
   "cell_type": "code",
   "execution_count": 4,
   "metadata": {},
   "outputs": [],
   "source": [
    "if __name__ == \"__main__\":\n",
    "    translation()"
   ]
  },
  {
   "cell_type": "code",
   "execution_count": null,
   "metadata": {},
   "outputs": [],
   "source": []
  }
 ],
 "metadata": {
  "kernelspec": {
   "display_name": "Python 3",
   "language": "python",
   "name": "python3"
  },
  "language_info": {
   "codemirror_mode": {
    "name": "ipython",
    "version": 3
   },
   "file_extension": ".py",
   "mimetype": "text/x-python",
   "name": "python",
   "nbconvert_exporter": "python",
   "pygments_lexer": "ipython3",
   "version": "3.8.3"
  }
 },
 "nbformat": 4,
 "nbformat_minor": 4
}
