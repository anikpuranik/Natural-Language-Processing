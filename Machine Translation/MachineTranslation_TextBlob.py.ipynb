{
 "cells": [
  {
   "cell_type": "markdown",
   "metadata": {},
   "source": [
    "### This module is for language translation using Textblob. Textblob uses a Google Translate for language conversion.  "
   ]
  },
  {
   "cell_type": "markdown",
   "metadata": {},
   "source": [
    "### Importing libraries"
   ]
  },
  {
   "cell_type": "code",
   "execution_count": 1,
   "metadata": {},
   "outputs": [],
   "source": [
    "import numpy as np\n",
    "from tqdm import tqdm\n",
    "from textblob import TextBlob"
   ]
  },
  {
   "cell_type": "markdown",
   "metadata": {},
   "source": [
    "### Importing dataset"
   ]
  },
  {
   "cell_type": "code",
   "execution_count": 2,
   "metadata": {},
   "outputs": [],
   "source": [
    "filename = 'deu.txt'\n",
    "with open(filename, mode=\"r\", encoding=\"utf-8\") as f:\n",
    "    text = f.read()\n",
    "#text"
   ]
  },
  {
   "cell_type": "code",
   "execution_count": 3,
   "metadata": {},
   "outputs": [],
   "source": [
    "text = text.strip().split(\"\\n\")\n",
    "data = [i.split(\"\\t\") for i in text]\n",
    "#data"
   ]
  },
  {
   "cell_type": "code",
   "execution_count": 4,
   "metadata": {},
   "outputs": [],
   "source": [
    "deu_eng = np.array(data)\n",
    "#deu_eng"
   ]
  },
  {
   "cell_type": "markdown",
   "metadata": {},
   "source": [
    "### Text preprocessing"
   ]
  },
  {
   "cell_type": "code",
   "execution_count": 5,
   "metadata": {},
   "outputs": [],
   "source": [
    "import string\n",
    "deu_eng[:,0] = [s.translate(str.maketrans('','', string.punctuation)) for s in deu_eng[:, 0]]\n",
    "deu_eng[:,1] = [s.translate(str.maketrans('','', string.punctuation)) for s in deu_eng[:, 1]]\n",
    "#deu_eng"
   ]
  },
  {
   "cell_type": "code",
   "execution_count": 6,
   "metadata": {},
   "outputs": [
    {
     "name": "stderr",
     "output_type": "stream",
     "text": [
      "100%|██████████| 221533/221533 [00:01<00:00, 154352.99it/s]\n"
     ]
    }
   ],
   "source": [
    "for i in tqdm(range(len(deu_eng))):\n",
    "    deu_eng[i,0] = deu_eng[i,0].lower()\n",
    "    deu_eng[i,1] = deu_eng[i,1].lower()   \n",
    "#deu_eng"
   ]
  },
  {
   "cell_type": "code",
   "execution_count": 19,
   "metadata": {},
   "outputs": [],
   "source": [
    "deu_sentences = deu_eng[:, 1]\n",
    "eng_sentences = deu_eng[:, 0]"
   ]
  },
  {
   "cell_type": "markdown",
   "metadata": {},
   "source": [
    "### Translating Sentences"
   ]
  },
  {
   "cell_type": "code",
   "execution_count": 8,
   "metadata": {},
   "outputs": [],
   "source": [
    "textblob_deu_sentences = [TextBlob(sentence) for sentence in deu_sentences]\n",
    "#textblob_deu_sentences"
   ]
  },
  {
   "cell_type": "code",
   "execution_count": 16,
   "metadata": {},
   "outputs": [
    {
     "name": "stderr",
     "output_type": "stream",
     "text": [
      "100%|██████████| 50/50 [00:14<00:00,  3.44it/s]\n"
     ]
    }
   ],
   "source": [
    "english_translated = []\n",
    "for ind in tqdm(range(50)):\n",
    "    try:\n",
    "        sentence = textblob_deu_sentences[ind].translate(to=\"en\")\n",
    "    except:\n",
    "        # to avoid for untranslated words (i.e. same word in both languages)\n",
    "        sentence = textblob_deu_sentences[ind]\n",
    "    english_translated.append(sentence)\n",
    "    "
   ]
  },
  {
   "cell_type": "code",
   "execution_count": null,
   "metadata": {},
   "outputs": [],
   "source": []
  }
 ],
 "metadata": {
  "kernelspec": {
   "display_name": "Python 3",
   "language": "python",
   "name": "python3"
  },
  "language_info": {
   "codemirror_mode": {
    "name": "ipython",
    "version": 3
   },
   "file_extension": ".py",
   "mimetype": "text/x-python",
   "name": "python",
   "nbconvert_exporter": "python",
   "pygments_lexer": "ipython3",
   "version": "3.8.3"
  }
 },
 "nbformat": 4,
 "nbformat_minor": 4
}
